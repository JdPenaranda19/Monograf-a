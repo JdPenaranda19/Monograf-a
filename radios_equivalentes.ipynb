{
 "cells": [
  {
   "cell_type": "code",
   "execution_count": 18,
   "metadata": {},
   "outputs": [],
   "source": [
    "import numpy as np\n",
    "import pandas as pd\n",
    "archivos = [14,25,32,38]\n",
    "filename = 'C:/Users/Jose peñaranda/Documents/Documentos python/env/archivos/Catalogo/cosmologias/datos_volumenes/extreme_simulation_{}_v_max_300_sigma_3.csv'\n",
    "\n",
    "volumenes = []\n",
    "\n",
    "for i in archivos:\n",
    "    read = pd.read_csv(filename.format(i), dtype={\"volumenes\": np.float32})\n",
    "    volumenes.append(np.array(read['volumenes']))\n",
    "volumenes2 = []\n",
    "for i in volumenes:\n",
    "    volumenes2.append(np.array(i))"
   ]
  },
  {
   "cell_type": "code",
   "execution_count": 19,
   "metadata": {},
   "outputs": [
    {
     "name": "stdout",
     "output_type": "stream",
     "text": [
      "16.70081901550293\n",
      "20.063793182373047\n",
      "23.67597770690918\n",
      "16.79839324951172\n"
     ]
    }
   ],
   "source": [
    "for i in range(len(archivos)):\n",
    "    volumen = np.array(volumenes2[i])\n",
    "    volumen = (volumen*3/(4*np.pi))**(1/3)\n",
    "    volumen = volumen.tolist()\n",
    "    out = open(\"R_eq_extreme_simulation_{}_v_max_300_sigma_3.csv\".format(archivos[i]), \"w\")\n",
    "    out.write(\"volumenes,\\n\")\n",
    "    print(volumen[0])\n",
    "    for f in volumen:\n",
    "        out.write(\"{},\\n\".format(f))\n",
    "    out.close()"
   ]
  },
  {
   "cell_type": "code",
   "execution_count": null,
   "metadata": {},
   "outputs": [],
   "source": []
  }
 ],
 "metadata": {
  "kernelspec": {
   "display_name": "Python 3",
   "language": "python",
   "name": "python3"
  },
  "language_info": {
   "codemirror_mode": {
    "name": "ipython",
    "version": 3
   },
   "file_extension": ".py",
   "mimetype": "text/x-python",
   "name": "python",
   "nbconvert_exporter": "python",
   "pygments_lexer": "ipython3",
   "version": "3.8.1"
  }
 },
 "nbformat": 4,
 "nbformat_minor": 4
}
